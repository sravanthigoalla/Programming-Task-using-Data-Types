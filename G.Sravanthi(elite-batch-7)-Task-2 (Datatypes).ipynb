{
 "cells": [
  {
   "cell_type": "code",
   "execution_count": 3,
   "id": "8278bb2f",
   "metadata": {},
   "outputs": [
    {
     "name": "stdout",
     "output_type": "stream",
     "text": [
      "1\n",
      "1\n",
      "1\n",
      "2\n",
      "[[0, 0, 0], [0, 0, 1], [0, 1, 0], [1, 0, 0], [1, 1, 1]]\n"
     ]
    }
   ],
   "source": [
    "#1.print the list in lexicographical increasing order\n",
    "\n",
    "x = int(input())\n",
    "y = int(input())\n",
    "z = int(input())\n",
    "n = int(input())\n",
    "l = list()\n",
    "for i in range(x+1):\n",
    "    for j in range(y+1):\n",
    "        for k in range (z+1):\n",
    "            if(i+j+k!=n):\n",
    "                l.append([i,j,k])\n",
    "print (l)   "
   ]
  },
  {
   "cell_type": "code",
   "execution_count": 6,
   "id": "cc52ab9b",
   "metadata": {},
   "outputs": [
    {
     "name": "stdout",
     "output_type": "stream",
     "text": [
      "5\n",
      "2 3 6 6 5\n",
      "5\n"
     ]
    }
   ],
   "source": [
    "#2.Given a list of numbers find the second largest number.\n",
    "\n",
    "if __name__ == '__main__':\n",
    "    n = int(input())\n",
    "    arr = map(int, input().split())\n",
    "    new_arr = [x for x in arr]\n",
    "    a = max(new_arr)\n",
    "    count = 0\n",
    "    for i in new_arr:\n",
    "        if i == a:\n",
    "            count +=1\n",
    "    for j in range(count):\n",
    "        new_arr.remove(a)\n",
    "    print(max(new_arr))"
   ]
  },
  {
   "cell_type": "code",
   "execution_count": 8,
   "id": "85d8d352",
   "metadata": {},
   "outputs": [
    {
     "name": "stdout",
     "output_type": "stream",
     "text": [
      "5\n",
      "Harry\n",
      "37.21\n",
      "Berry\n",
      "37.21\n",
      "Tina\n",
      "37.2\n",
      "Akrithi\n",
      "41\n",
      "Harsh\n",
      "39\n",
      "Berry\n",
      "Harry\n"
     ]
    }
   ],
   "source": [
    "# 3.Neted lists\n",
    "\n",
    "if __name__ == '__main__':\n",
    "    students = []\n",
    "    for _ in range(int(input())):\n",
    "        name = input()\n",
    "        score = float(input())\n",
    "        students.append([name,score])\n",
    "    \n",
    "    second_lowest = sorted(list(set([x[1] for x in students])))[1]\n",
    "    for name in sorted([x[0] for x in students if x[1] == second_lowest]):\n",
    "        print(name)\n"
   ]
  },
  {
   "cell_type": "code",
   "execution_count": 9,
   "id": "abf69a33",
   "metadata": {},
   "outputs": [
    {
     "name": "stdout",
     "output_type": "stream",
     "text": [
      "3\n",
      "Krishna 67 68 69\n",
      "Arjun 70 98 63\n",
      "Malika 52 56 60\n",
      "Malika\n",
      "56.00\n"
     ]
    }
   ],
   "source": [
    "# 4.Finding the percentage.\n",
    "\n",
    "if __name__ == '__main__':\n",
    "    n = int(input())\n",
    "    student_marks = {}\n",
    "    for _ in range(n):\n",
    "        name, *line = input().split()\n",
    "        scores = list(map(float, line))\n",
    "        student_marks[name] = scores\n",
    "    query_name = input()\n",
    "    x=round(sum(student_marks[query_name])/len(student_marks[query_name]),2)\n",
    "    print(\"{0:.2f}\".format(x))\n"
   ]
  },
  {
   "cell_type": "code",
   "execution_count": 4,
   "id": "ee6f5ee1",
   "metadata": {},
   "outputs": [
    {
     "name": "stdout",
     "output_type": "stream",
     "text": [
      "12\n",
      "insert 0 5\n",
      "insert 1 10\n",
      "insert 0 6 \n",
      "print\n",
      "[6, 5, 10]\n",
      "remove 6\n",
      "append 9\n",
      "append 1\n",
      "sort\n",
      "print\n",
      "[1, 5, 9, 10]\n",
      "pop\n",
      "reverse\n",
      "print\n",
      "[9, 5, 1]\n"
     ]
    }
   ],
   "source": [
    "# 5.lists\n",
    "\n",
    "if __name__ == '__main__':\n",
    "    list = []\n",
    "    N = int(input()) \n",
    "    for i in range(N):\n",
    "        cmd = input().split()\n",
    "        if cmd[0] == 'insert':\n",
    "            list.insert(int(cmd[1]), int(cmd[2]))\n",
    "        elif cmd[0] == 'print':\n",
    "            print(list)\n",
    "        elif cmd[0] == 'remove':\n",
    "            list.remove(int(cmd[1]))\n",
    "        elif cmd[0] == 'append':\n",
    "            list.append(int(cmd[1]))\n",
    "        elif cmd[0] == 'sort':\n",
    "            list.sort()\n",
    "        elif cmd[0] == 'pop':\n",
    "            list.pop()\n",
    "        else:\n",
    "            list.reverse()\n"
   ]
  },
  {
   "cell_type": "code",
   "execution_count": 7,
   "id": "8ef8b714",
   "metadata": {},
   "outputs": [
    {
     "name": "stdout",
     "output_type": "stream",
     "text": [
      "2\n",
      "1 2\n",
      "-3550055125485641917\n"
     ]
    }
   ],
   "source": [
    "#6. Tuples\n",
    "\n",
    "if __name__ == '__main__':\n",
    "    n = int(input())\n",
    "    int_list = [int(i) for i in input().split()]\n",
    "    int_tuple = tuple(int_list)\n",
    "    print(hash(int_tuple))\n",
    "\n"
   ]
  },
  {
   "cell_type": "code",
   "execution_count": 9,
   "id": "72f63c27",
   "metadata": {},
   "outputs": [],
   "source": [
    "#7.sets \n",
    "\n",
    "def average(array):\n",
    "     return sum(set(array))/len(set(array))"
   ]
  },
  {
   "cell_type": "code",
   "execution_count": 11,
   "id": "d158cd31",
   "metadata": {},
   "outputs": [
    {
     "name": "stdout",
     "output_type": "stream",
     "text": [
      "3 2 \n",
      "1 5 3\n",
      "3 1 \n",
      "5 7\n",
      "1\n"
     ]
    }
   ],
   "source": [
    "#8. \n",
    "\n",
    "n, m = input().split()\n",
    "\n",
    "sc_ar = input().split()\n",
    "\n",
    "A = set(input().split())\n",
    "B = set(input().split())\n",
    "print(sum([(i in A) - (i in B) for i in sc_ar]))"
   ]
  },
  {
   "cell_type": "code",
   "execution_count": 1,
   "id": "949b90cb",
   "metadata": {},
   "outputs": [
    {
     "name": "stdout",
     "output_type": "stream",
     "text": [
      "1\n",
      "2\n",
      "3\n",
      "4\n",
      "2\n",
      "4\n"
     ]
    }
   ],
   "source": [
    "#9 .\n",
    "\n",
    "\n",
    "m = int(input())\n",
    "a = set(map(int, input().split()))\n",
    "n = int(input())\n",
    "b = set(map(int, input().split()))\n",
    "\n",
    "c = a.difference(b)\n",
    "d = b.difference(a)\n",
    "e = c.union(d)\n",
    "RESULT = list(e)\n",
    "RESULT.sort()\n",
    "for i in range(len(RESULT)):\n",
    "    print(RESULT[i])"
   ]
  },
  {
   "cell_type": "code",
   "execution_count": null,
   "id": "6afb6e4d",
   "metadata": {},
   "outputs": [],
   "source": [
    "# 10.set.add()\n",
    "\n",
    "no_of_stamps = int(input())\n",
    "stamps = set()\n",
    "for stamp in range(no_of_stamps):\n",
    "    stamps.add(input())\n",
    "    \n",
    "print (len(stamps))\n"
   ]
  },
  {
   "cell_type": "code",
   "execution_count": null,
   "id": "9773c5c0",
   "metadata": {},
   "outputs": [],
   "source": [
    "# 11.\n",
    "\n",
    "n = int(input())\n",
    "s = set(map(int, input().split())) \n",
    "for i in range(int(input())): \n",
    "    s1 = input().split()\n",
    "    if s1[0] == 'pop':\n",
    "        s.pop()\n",
    "    elif s1[0] == 'remove':\n",
    "        s.remove(int(s1[1]))\n",
    "    elif s1[0] == 'discard':\n",
    "        s.discard(int(s1[1]))\n",
    "\n",
    "print(sum(s))"
   ]
  },
  {
   "cell_type": "code",
   "execution_count": null,
   "id": "b7b345b4",
   "metadata": {},
   "outputs": [],
   "source": []
  }
 ],
 "metadata": {
  "kernelspec": {
   "display_name": "Python 3 (ipykernel)",
   "language": "python",
   "name": "python3"
  },
  "language_info": {
   "codemirror_mode": {
    "name": "ipython",
    "version": 3
   },
   "file_extension": ".py",
   "mimetype": "text/x-python",
   "name": "python",
   "nbconvert_exporter": "python",
   "pygments_lexer": "ipython3",
   "version": "3.9.12"
  }
 },
 "nbformat": 4,
 "nbformat_minor": 5
}
