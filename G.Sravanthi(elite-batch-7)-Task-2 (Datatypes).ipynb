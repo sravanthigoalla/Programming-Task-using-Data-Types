{
 "cells": [
  {
   "cell_type": "code",
   "execution_count": 3,
   "id": "7c706f9d",
   "metadata": {},
   "outputs": [
    {
     "name": "stdout",
     "output_type": "stream",
     "text": [
      "1\n",
      "1\n",
      "1\n",
      "2\n",
      "[[0, 0, 0], [0, 0, 1], [0, 1, 0], [1, 0, 0], [1, 1, 1]]\n"
     ]
    }
   ],
   "source": [
    "1.print the list in lexicographical increasing order\n",
    "\n",
    "x = int(input())\n",
    "y = int(input())\n",
    "z = int(input())\n",
    "n = int(input())\n",
    "l = list()\n",
    "for i in range(x+1):\n",
    "    for j in range(y+1):\n",
    "        for k in range (z+1):\n",
    "            if(i+j+k!=n):\n",
    "                l.append([i,j,k])\n",
    "print (l)   "
   ]
  },
  {
   "cell_type": "code",
   "execution_count": null,
   "id": "58665436",
   "metadata": {},
   "outputs": [],
   "source": []
  }
 ],
 "metadata": {
  "kernelspec": {
   "display_name": "Python 3 (ipykernel)",
   "language": "python",
   "name": "python3"
  },
  "language_info": {
   "codemirror_mode": {
    "name": "ipython",
    "version": 3
   },
   "file_extension": ".py",
   "mimetype": "text/x-python",
   "name": "python",
   "nbconvert_exporter": "python",
   "pygments_lexer": "ipython3",
   "version": "3.9.12"
  }
 },
 "nbformat": 4,
 "nbformat_minor": 5
}
